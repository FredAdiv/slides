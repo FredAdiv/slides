{
 "cells": [
  {
   "cell_type": "code",
   "execution_count": null,
   "id": "e677d8ec",
   "metadata": {},
   "outputs": [],
   "source": [
    "import numpy as np\n",
    "from sklearn.linear_model import LogisticRegression"
   ]
  },
  {
   "cell_type": "code",
   "execution_count": null,
   "id": "bf308a35",
   "metadata": {},
   "outputs": [],
   "source": [
    "data = np.array([[1, \"blue\"], [2, \"blue\"],  [2.5, \"blue\"], [4, \"green\"], [5, \"green\"]])"
   ]
  },
  {
   "cell_type": "code",
   "execution_count": null,
   "id": "ef64d360",
   "metadata": {},
   "outputs": [],
   "source": [
    "data"
   ]
  },
  {
   "cell_type": "code",
   "execution_count": null,
   "id": "803d642d",
   "metadata": {},
   "outputs": [],
   "source": [
    "model = LogisticRegression()"
   ]
  },
  {
   "cell_type": "code",
   "execution_count": null,
   "id": "c37bb4a4",
   "metadata": {},
   "outputs": [],
   "source": [
    "tr = np.transpose(data)\n",
    "X = tr[0].astype('float32').reshape(-1, 1)\n",
    "X\n",
    "y = tr[1]\n",
    "model.fit(X, y)"
   ]
  },
  {
   "cell_type": "code",
   "execution_count": null,
   "id": "f5b77073",
   "metadata": {},
   "outputs": [],
   "source": [
    "model.intercept_"
   ]
  },
  {
   "cell_type": "code",
   "execution_count": null,
   "id": "6e3b10c3",
   "metadata": {},
   "outputs": [],
   "source": [
    "model.coef_"
   ]
  },
  {
   "cell_type": "code",
   "execution_count": null,
   "id": "b7914bea",
   "metadata": {},
   "outputs": [],
   "source": [
    "print('coefficient of determination:', model.score(X, y))"
   ]
  },
  {
   "cell_type": "code",
   "execution_count": null,
   "id": "0bb0c0b6",
   "metadata": {},
   "outputs": [],
   "source": [
    "model.predict([[1], [3], [3.5], [17]])"
   ]
  }
 ],
 "metadata": {
  "kernelspec": {
   "display_name": "Python 3 (ipykernel)",
   "language": "python",
   "name": "python3"
  },
  "language_info": {
   "codemirror_mode": {
    "name": "ipython",
    "version": 3
   },
   "file_extension": ".py",
   "mimetype": "text/x-python",
   "name": "python",
   "nbconvert_exporter": "python",
   "pygments_lexer": "ipython3",
   "version": "3.9.5"
  }
 },
 "nbformat": 4,
 "nbformat_minor": 5
}
