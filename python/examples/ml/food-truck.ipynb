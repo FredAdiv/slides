{
 "cells": [
  {
   "cell_type": "code",
   "execution_count": null,
   "id": "7c87d906",
   "metadata": {},
   "outputs": [],
   "source": [
    "import pandas as pd\n",
    "import numpy as np\n",
    "import matplotlib.pyplot as plt\n",
    "from sklearn.linear_model import LinearRegression\n",
    "from sklearn.model_selection import train_test_split"
   ]
  },
  {
   "cell_type": "code",
   "execution_count": null,
   "id": "09d691bf",
   "metadata": {},
   "outputs": [],
   "source": [
    "np.random.seed(42)"
   ]
  },
  {
   "cell_type": "code",
   "execution_count": null,
   "id": "d3a32751",
   "metadata": {},
   "outputs": [],
   "source": [
    "filename = \"food-truck.csv\""
   ]
  },
  {
   "cell_type": "markdown",
   "id": "b67fd01a",
   "metadata": {},
   "source": [
    "Original version did not have titles in the CSV file"
   ]
  },
  {
   "cell_type": "code",
   "execution_count": null,
   "id": "367004d1",
   "metadata": {},
   "outputs": [],
   "source": [
    "#data = np.genfromtxt(filename, delimiter=',')\n",
    "#data"
   ]
  },
  {
   "cell_type": "code",
   "execution_count": null,
   "id": "d3a10eb6",
   "metadata": {},
   "outputs": [],
   "source": [
    "df = pd.read_csv(filename)"
   ]
  },
  {
   "cell_type": "code",
   "execution_count": null,
   "id": "dbe5d2c2",
   "metadata": {},
   "outputs": [],
   "source": [
    "df"
   ]
  },
  {
   "cell_type": "code",
   "execution_count": null,
   "id": "18ed8c8d",
   "metadata": {},
   "outputs": [],
   "source": [
    "df.describe()"
   ]
  },
  {
   "cell_type": "code",
   "execution_count": null,
   "id": "631e8665",
   "metadata": {},
   "outputs": [],
   "source": [
    "plt.plot(df); # this is probably not what we want"
   ]
  },
  {
   "cell_type": "code",
   "execution_count": null,
   "id": "20b5fcf8",
   "metadata": {},
   "outputs": [],
   "source": [
    "df[\"Population\"]"
   ]
  },
  {
   "cell_type": "code",
   "execution_count": null,
   "id": "06505fb5",
   "metadata": {},
   "outputs": [],
   "source": [
    "plt.scatter(x=df[\"Population\"], y=df[\"Profit\"], s=5); # s sets the size of the dots"
   ]
  },
  {
   "cell_type": "code",
   "execution_count": null,
   "id": "8794527a",
   "metadata": {},
   "outputs": [],
   "source": [
    "df.plot.scatter(x='Population', y='Profit');"
   ]
  },
  {
   "cell_type": "code",
   "execution_count": null,
   "id": "76d61d8d",
   "metadata": {},
   "outputs": [],
   "source": [
    "X = df.drop([\"Profit\"], axis=1)\n",
    "y = df.drop([\"Population\"], axis=1)"
   ]
  },
  {
   "cell_type": "code",
   "execution_count": null,
   "id": "e309a8d1",
   "metadata": {},
   "outputs": [],
   "source": [
    "x_train, x_test, y_train, y_test = train_test_split(X, y)"
   ]
  },
  {
   "cell_type": "code",
   "execution_count": null,
   "id": "0fe0b148",
   "metadata": {},
   "outputs": [],
   "source": [
    "model = LinearRegression()\n",
    "model.fit(x_train, y_train)"
   ]
  },
  {
   "cell_type": "code",
   "execution_count": null,
   "id": "109bd9b5",
   "metadata": {},
   "outputs": [],
   "source": [
    "print('train coefficient of determination:', model.score(x_train, y_train))"
   ]
  },
  {
   "cell_type": "code",
   "execution_count": null,
   "id": "eeefdcb1",
   "metadata": {},
   "outputs": [],
   "source": [
    "print('test coefficient of determination:', model.score(x_test, y_test))"
   ]
  },
  {
   "cell_type": "markdown",
   "id": "570e5c34",
   "metadata": {},
   "source": [
    "The resulting line on all our data"
   ]
  },
  {
   "cell_type": "code",
   "execution_count": null,
   "id": "e6725639",
   "metadata": {},
   "outputs": [],
   "source": [
    "pop_min = min(df[\"Population\"])\n",
    "pop_max = max(df[\"Population\"])\n",
    "pred_min = model.predict([[pop_min]])[0][0]\n",
    "pred_max = model.predict([[pop_max]])[0][0]\n",
    "print(pop_min)\n",
    "print(pop_max)\n",
    "print(pred_min)\n",
    "print(pred_max)\n",
    "plt.scatter(x=df[\"Population\"], y=df[\"Profit\"], s=5);\n",
    "plt.plot([pop_min, pop_max], [pred_min, pred_max], color=\"red\");"
   ]
  },
  {
   "cell_type": "markdown",
   "id": "cd58b7b6",
   "metadata": {},
   "source": [
    "Let's see how the train and test data-sets are distributed?"
   ]
  },
  {
   "cell_type": "code",
   "execution_count": null,
   "id": "a6908d8b",
   "metadata": {},
   "outputs": [],
   "source": [
    "plt.scatter(x=x_test, y=y_test, s=5, color=\"blue\");\n",
    "plt.scatter(x=x_train, y=y_train, s=5, color=\"red\");\n",
    "plt.plot([pop_min, pop_max], [pred_min, pred_max], color=\"black\");"
   ]
  }
 ],
 "metadata": {
  "kernelspec": {
   "display_name": "Python 3 (ipykernel)",
   "language": "python",
   "name": "python3"
  },
  "language_info": {
   "codemirror_mode": {
    "name": "ipython",
    "version": 3
   },
   "file_extension": ".py",
   "mimetype": "text/x-python",
   "name": "python",
   "nbconvert_exporter": "python",
   "pygments_lexer": "ipython3",
   "version": "3.9.5"
  }
 },
 "nbformat": 4,
 "nbformat_minor": 5
}
