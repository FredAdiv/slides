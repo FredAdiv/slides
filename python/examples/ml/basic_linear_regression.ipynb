{
 "cells": [
  {
   "cell_type": "markdown",
   "id": "3c434147",
   "metadata": {},
   "source": [
    "# Basic Linear regression"
   ]
  },
  {
   "cell_type": "code",
   "execution_count": null,
   "id": "e1b1b78a",
   "metadata": {},
   "outputs": [],
   "source": [
    "import numpy as np\n",
    "from sklearn.linear_model import LinearRegression\n",
    "import matplotlib.pyplot as plt\n",
    "from joblib import dump"
   ]
  },
  {
   "cell_type": "markdown",
   "id": "c3ae35e7",
   "metadata": {},
   "source": [
    "[sklearn.linear_model.LinearRegression](https://scikit-learn.org/stable/modules/generated/sklearn.linear_model.LinearRegression.html)"
   ]
  },
  {
   "cell_type": "code",
   "execution_count": null,
   "id": "90a773fb",
   "metadata": {},
   "outputs": [],
   "source": [
    "size = 3\n",
    "data = np.array([[n, 2*n] for n in range(size)])"
   ]
  },
  {
   "cell_type": "code",
   "execution_count": null,
   "id": "43bbe148",
   "metadata": {},
   "outputs": [],
   "source": [
    "data"
   ]
  },
  {
   "cell_type": "code",
   "execution_count": null,
   "id": "f04bcacb",
   "metadata": {},
   "outputs": [],
   "source": [
    "tr = np.transpose(data)\n",
    "tr"
   ]
  },
  {
   "cell_type": "code",
   "execution_count": null,
   "id": "34e00e4d",
   "metadata": {},
   "outputs": [],
   "source": [
    "plt.scatter(tr[0], tr[1]);\n"
   ]
  },
  {
   "cell_type": "code",
   "execution_count": null,
   "id": "3b28abee",
   "metadata": {},
   "outputs": [],
   "source": [
    "tr[0]"
   ]
  },
  {
   "cell_type": "code",
   "execution_count": null,
   "id": "c6c01854",
   "metadata": {},
   "outputs": [],
   "source": [
    "X = tr[0].reshape((-1, 1))\n",
    "X"
   ]
  },
  {
   "cell_type": "code",
   "execution_count": null,
   "id": "d1775b45",
   "metadata": {},
   "outputs": [],
   "source": [
    "y = tr[1]\n",
    "y"
   ]
  },
  {
   "cell_type": "markdown",
   "id": "527e5a96",
   "metadata": {},
   "source": [
    "We are looking for a linear function like `y = ax+b` for which our cost is the smallest"
   ]
  },
  {
   "cell_type": "code",
   "execution_count": null,
   "id": "8b21cf17",
   "metadata": {},
   "outputs": [],
   "source": [
    "model = LinearRegression()"
   ]
  },
  {
   "cell_type": "code",
   "execution_count": null,
   "id": "2e9793a4",
   "metadata": {},
   "outputs": [],
   "source": [
    "model.fit(X, y)"
   ]
  },
  {
   "cell_type": "markdown",
   "id": "704103ad",
   "metadata": {},
   "source": [
    "`intercept_` is where the line crosses the `y` axis. (It is `b` in the above expression.)\n",
    "This is aproximately 0 in our case."
   ]
  },
  {
   "cell_type": "code",
   "execution_count": null,
   "id": "54f8a6f5",
   "metadata": {},
   "outputs": [],
   "source": [
    "model.intercept_"
   ]
  },
  {
   "cell_type": "markdown",
   "id": "4cd0bfc2",
   "metadata": {},
   "source": [
    "`coef_` is how steep the line is. (It is `a` in the above expression.)"
   ]
  },
  {
   "cell_type": "code",
   "execution_count": null,
   "id": "d562a461",
   "metadata": {},
   "outputs": [],
   "source": [
    "model.coef_"
   ]
  },
  {
   "cell_type": "markdown",
   "id": "d604b37e",
   "metadata": {},
   "source": [
    "[Coefficient of determination](https://en.wikipedia.org/wiki/Coefficient_of_determination)"
   ]
  },
  {
   "cell_type": "code",
   "execution_count": null,
   "id": "797c8dbf",
   "metadata": {},
   "outputs": [],
   "source": [
    "print('coefficient of determination:', model.score(X, y))"
   ]
  },
  {
   "cell_type": "code",
   "execution_count": null,
   "id": "b6e11dd4",
   "metadata": {},
   "outputs": [],
   "source": [
    "model.predict([[10], [7]])"
   ]
  },
  {
   "cell_type": "code",
   "execution_count": null,
   "id": "22f6f6a2",
   "metadata": {},
   "outputs": [],
   "source": [
    "print(model)"
   ]
  },
  {
   "cell_type": "code",
   "execution_count": null,
   "id": "158b3fa8",
   "metadata": {},
   "outputs": [],
   "source": [
    "dump(model, 'linear.joblib')"
   ]
  }
 ],
 "metadata": {
  "kernelspec": {
   "display_name": "Python 3 (ipykernel)",
   "language": "python",
   "name": "python3"
  },
  "language_info": {
   "codemirror_mode": {
    "name": "ipython",
    "version": 3
   },
   "file_extension": ".py",
   "mimetype": "text/x-python",
   "name": "python",
   "nbconvert_exporter": "python",
   "pygments_lexer": "ipython3",
   "version": "3.9.5"
  }
 },
 "nbformat": 4,
 "nbformat_minor": 5
}
